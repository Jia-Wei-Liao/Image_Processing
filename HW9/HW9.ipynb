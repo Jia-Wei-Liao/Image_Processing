{
 "cells": [
  {
   "cell_type": "code",
   "execution_count": 1,
   "metadata": {},
   "outputs": [],
   "source": [
    "import numpy as np\n",
    "import matplotlib.pyplot as plt\n",
    "import cv2\n",
    "import random\n",
    "import math"
   ]
  },
  {
   "cell_type": "code",
   "execution_count": 2,
   "metadata": {},
   "outputs": [],
   "source": [
    "def his(img, s):\n",
    "    [img_his, img_bin] = np.histogram(img.flatten(), range(257))\n",
    "    plt.bar(range(256), img_his, color = 'blue')\n",
    "    plt.savefig(s + '.png')"
   ]
  },
  {
   "cell_type": "code",
   "execution_count": 3,
   "metadata": {},
   "outputs": [],
   "source": [
    "def imgshow(img):\n",
    "    cv2.imshow('My Image', img)\n",
    "    cv2.waitKey(0)\n",
    "    cv2.destroyAllWindows()"
   ]
  },
  {
   "cell_type": "code",
   "execution_count": 4,
   "metadata": {},
   "outputs": [],
   "source": [
    "n, m = 256, 256"
   ]
  },
  {
   "cell_type": "code",
   "execution_count": 5,
   "metadata": {},
   "outputs": [],
   "source": [
    "g = (np.ones((n, m))*100).astype('uint8')"
   ]
  },
  {
   "cell_type": "code",
   "execution_count": 6,
   "metadata": {},
   "outputs": [
    {
     "data": {
      "image/png": "[encoded data removed]",
      "text/plain": [
       "<Figure size 432x288 with 1 Axes>"
      ]
     },
     "metadata": {
      "needs_background": "light"
     },
     "output_type": "display_data"
    }
   ],
   "source": [
    "his(g, 'g_histogram')\n",
    "imgshow(g)"
   ]
  },
  {
   "cell_type": "code",
   "execution_count": 7,
   "metadata": {},
   "outputs": [],
   "source": [
    "mu = 0\n",
    "sigma = 15**(1/2)"
   ]
  },
  {
   "cell_type": "code",
   "execution_count": 8,
   "metadata": {},
   "outputs": [],
   "source": [
    "f = (np.zeros((n, m))).astype('uint8')"
   ]
  },
  {
   "cell_type": "code",
   "execution_count": 9,
   "metadata": {},
   "outputs": [],
   "source": [
    "for i in range(n):\n",
    "    for j in range(m):\n",
    "        if j%2 == 0:\n",
    "            r, phi = random.random(), random.random()\n",
    "            z1 = sigma*math.cos(2*math.pi*phi)*((-2)*math.log(r))**(1/2)\n",
    "            z2 = sigma*math.sin(2*math.pi*phi)*((-2)*math.log(r))**(1/2)\n",
    "            f[i, j] = g[i, j] + z1\n",
    "            f[i, j+1] = g[i, j+1] + z2"
   ]
  },
  {
   "cell_type": "code",
   "execution_count": 10,
   "metadata": {},
   "outputs": [],
   "source": [
    "f1 = (np.zeros((n, m))).astype('uint8')"
   ]
  },
  {
   "cell_type": "code",
   "execution_count": 11,
   "metadata": {},
   "outputs": [],
   "source": [
    "for i in range(n):\n",
    "    for j in range(m):\n",
    "        if f[i, j] == 0:\n",
    "            f1[i, j] == 0\n",
    "        elif f[i, j] > 256-1:\n",
    "            f1[i, j] = 256-1\n",
    "        else:\n",
    "            f1[i, j] = f[i, j]"
   ]
  },
  {
   "cell_type": "code",
   "execution_count": 12,
   "metadata": {},
   "outputs": [
    {
     "data": {
      "image/png": "[encoded data removed]",
      "text/plain": [
       "<Figure size 432x288 with 1 Axes>"
      ]
     },
     "metadata": {
      "needs_background": "light"
     },
     "output_type": "display_data"
    }
   ],
   "source": [
    "his(f1, 'f1_histogram')\n",
    "imgshow(f1)"
   ]
  },
  {
   "cell_type": "code",
   "execution_count": 13,
   "metadata": {},
   "outputs": [],
   "source": [
    "f2 = (np.zeros((n, m))).astype('uint8')"
   ]
  },
  {
   "cell_type": "code",
   "execution_count": 14,
   "metadata": {},
   "outputs": [],
   "source": [
    "for i in range(n):\n",
    "    for j in range(m):\n",
    "        s = np.random.normal(mu, sigma) #Create Gaussian Noise\n",
    "        f2[i, j] = g[i, j] + s"
   ]
  },
  {
   "cell_type": "code",
   "execution_count": 15,
   "metadata": {},
   "outputs": [
    {
     "data": {
      "image/png": "[encoded data removed]",
      "text/plain": [
       "<Figure size 432x288 with 1 Axes>"
      ]
     },
     "metadata": {
      "needs_background": "light"
     },
     "output_type": "display_data"
    }
   ],
   "source": [
    "his(f2, 'f2_histogram')\n",
    "imgshow(f2)"
   ]
  },
  {
   "cell_type": "code",
   "execution_count": 16,
   "metadata": {},
   "outputs": [
    {
     "data": {
      "text/plain": [
       "True"
      ]
     },
     "execution_count": 16,
     "metadata": {},
     "output_type": "execute_result"
    }
   ],
   "source": [
    "cv2.imwrite('image_g.jpg', g)\n",
    "cv2.imwrite('image_f1.jpg', f1)\n",
    "cv2.imwrite('image_f2.jpg', f2)"
   ]
  },
  {
   "cell_type": "code",
   "execution_count": 17,
   "metadata": {},
   "outputs": [
    {
     "name": "stdout",
     "output_type": "stream",
     "text": [
      "File `廖家緯.HW9.py` exists. Overwrite (y/[N])?  y\n",
      "The following commands were written to file `廖家緯.HW9.py`:\n",
      "import numpy as np\n",
      "import matplotlib.pyplot as plt\n",
      "import cv2\n",
      "import random\n",
      "import math\n",
      "def his(img, s):\n",
      "    [img_his, img_bin] = np.histogram(img.flatten(), range(257))\n",
      "    plt.bar(range(256), img_his, color = 'blue')\n",
      "    plt.savefig(s + '.png')\n",
      "def imgshow(img):\n",
      "    cv2.imshow('My Image', img)\n",
      "    cv2.waitKey(0)\n",
      "    cv2.destroyAllWindows()\n",
      "n, m = 256, 256\n",
      "g = (np.ones((n, m))*100).astype('uint8')\n",
      "his(g, 'g_histogram')\n",
      "imgshow(g)\n",
      "mu = 0\n",
      "sigma = 15**(1/2)\n",
      "f = (np.zeros((n, m))).astype('uint8')\n",
      "for i in range(n):\n",
      "    for j in range(m):\n",
      "        if j%2 == 0:\n",
      "            r, phi = random.random(), random.random()\n",
      "            z1 = sigma*math.cos(2*math.pi*phi)*((-2)*math.log(r))**(1/2)\n",
      "            z2 = sigma*math.sin(2*math.pi*phi)*((-2)*math.log(r))**(1/2)\n",
      "            f[i, j] = g[i, j] + z1\n",
      "            f[i, j+1] = g[i, j+1] + z2\n",
      "f1 = (np.zeros((n, m))).astype('uint8')\n",
      "for i in range(n):\n",
      "    for j in range(m):\n",
      "        if f[i, j] == 0:\n",
      "            f1[i, j] == 0\n",
      "        elif f[i, j] > 256-1:\n",
      "            f1[i, j] = 256-1\n",
      "        else:\n",
      "            f1[i, j] = f[i, j]\n",
      "his(f1, 'f1_histogram')\n",
      "imgshow(f1)\n",
      "f2 = (np.zeros((n, m))).astype('uint8')\n",
      "for i in range(n):\n",
      "    for j in range(m):\n",
      "        s = np.random.normal(mu, sigma) #Create Gaussian Noise\n",
      "        f2[i, j] = g[i, j] + s\n",
      "his(f2, 'f2_histogram')\n",
      "imgshow(f2)\n"
     ]
    }
   ],
   "source": [
    "%save 廖家緯.HW9.py 1-15"
   ]
  }
 ],
 "metadata": {
  "kernelspec": {
   "display_name": "Python 3",
   "language": "python",
   "name": "python3"
  },
  "language_info": {
   "codemirror_mode": {
    "name": "ipython",
    "version": 3
   },
   "file_extension": ".py",
   "mimetype": "text/x-python",
   "name": "python",
   "nbconvert_exporter": "python",
   "pygments_lexer": "ipython3",
   "version": "3.7.4"
  }
 },
 "nbformat": 4,
 "nbformat_minor": 2
}
