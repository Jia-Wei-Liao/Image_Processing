{
 "cells": [
  {
   "cell_type": "code",
   "execution_count": 1,
   "metadata": {},
   "outputs": [],
   "source": [
    "import numpy as np\n",
    "import cv2"
   ]
  },
  {
   "cell_type": "code",
   "execution_count": 2,
   "metadata": {},
   "outputs": [],
   "source": [
    "# 顯示圖片\n",
    "def imgshow(img):\n",
    "    cv2.imshow('My Image', img)\n",
    "    cv2.waitKey(0)\n",
    "    cv2.destroyAllWindows()"
   ]
  },
  {
   "cell_type": "code",
   "execution_count": 3,
   "metadata": {},
   "outputs": [],
   "source": [
    "# Convolution\n",
    "def conv(Matrix, Filter):\n",
    "    Matrix = np.pad(Matrix,((1,1),(1,1)),'constant',constant_values = (0,0))\n",
    "    n, m = np.shape(Matrix)\n",
    "    Matrix2 = np.zeros((n, m)).astype('double')\n",
    "\n",
    "    for i in range(1, n-1):\n",
    "        for j in range(1 ,m-1):\n",
    "            Matrix2[i,j] =  (Matrix[i-1:i+2, j-1:j+2]*Filter).sum()\n",
    "\n",
    "    Matrix2 = Matrix2.astype('uint8')\n",
    "    return Matrix2[1:n-1, 1:m-1]"
   ]
  },
  {
   "cell_type": "code",
   "execution_count": 4,
   "metadata": {},
   "outputs": [],
   "source": [
    "# Step 1: Choose a grayscale image I\n",
    "I = cv2.imread('Gray.jpg', cv2.IMREAD_GRAYSCALE)\n",
    "n, m = np.shape(I)"
   ]
  },
  {
   "cell_type": "code",
   "execution_count": 5,
   "metadata": {},
   "outputs": [],
   "source": [
    "# Step 2: Zero interleave\n",
    "I1 = np.zeros((n*2,m*2), np.double)\n",
    "\n",
    "for i in range(n*2):\n",
    "    for j in range(m*2):\n",
    "        if i%2==0 and j%2==0:\n",
    "            I1[i, j] = I[i//2, j//2]"
   ]
  },
  {
   "cell_type": "code",
   "execution_count": 6,
   "metadata": {},
   "outputs": [],
   "source": [
    "# Step 3: Fill values by convolving I1 with\n",
    "# (i) NN interpolation\n",
    "NN = np.array([[1, 1, 0], [1, 1, 0], [0, 0, 0]])\n",
    "\n",
    "# (ii) Bilinear interpolation\n",
    "Bilinear = (1/4)*np.array([[1, 2, 1], [2, 4, 2], [1, 2, 1]])"
   ]
  },
  {
   "cell_type": "code",
   "execution_count": 7,
   "metadata": {},
   "outputs": [
    {
     "data": {
      "text/plain": [
       "True"
      ]
     },
     "execution_count": 7,
     "metadata": {},
     "output_type": "execute_result"
    }
   ],
   "source": [
    "img_NN = conv(I1, NN)\n",
    "img_Bilinear = conv(I1, Bilinear)\n",
    "\n",
    "img1 = np.hstack((img_NN, img_Bilinear)) \n",
    "imgshow(img1)\n",
    "\n",
    "cv2.imwrite('img_NN.jpg', img_NN)\n",
    "cv2.imwrite('img_Bilinear.jpg', img_Bilinear)"
   ]
  },
  {
   "cell_type": "code",
   "execution_count": 8,
   "metadata": {},
   "outputs": [
    {
     "name": "stdout",
     "output_type": "stream",
     "text": [
      "File `廖家緯.HW6.py` exists. Overwrite (y/[N])?  y\n",
      "The following commands were written to file `廖家緯.HW6.py`:\n",
      "import numpy as np\n",
      "import cv2\n",
      "# 顯示圖片\n",
      "def imgshow(img):\n",
      "    cv2.imshow('My Image', img)\n",
      "    cv2.waitKey(0)\n",
      "    cv2.destroyAllWindows()\n",
      "# Convolution\n",
      "def conv(Matrix, Filter):\n",
      "    Matrix = np.pad(Matrix,((1,1),(1,1)),'constant',constant_values = (0,0))\n",
      "    n, m = np.shape(Matrix)\n",
      "    Matrix2 = np.zeros((n, m)).astype('double')\n",
      "\n",
      "    for i in range(1, n-1):\n",
      "        for j in range(1 ,m-1):\n",
      "            Matrix2[i,j] =  (Matrix[i-1:i+2, j-1:j+2]*Filter).sum()\n",
      "\n",
      "    Matrix2 = Matrix2.astype('uint8')\n",
      "    return Matrix2[1:n-1, 1:m-1]\n",
      "# Step 1: Choose a grayscale image I\n",
      "I = cv2.imread('Gray.jpg', cv2.IMREAD_GRAYSCALE)\n",
      "n, m = np.shape(I)\n",
      "# Step 2: Zero interleave\n",
      "I1 = np.zeros((n*2,m*2), np.double)\n",
      "\n",
      "for i in range(n*2):\n",
      "    for j in range(m*2):\n",
      "        if i%2==0 and j%2==0:\n",
      "            I1[i, j] = I[i//2, j//2]\n",
      "# Step 3: Fill values by convolving I1 with\n",
      "# (i) NN interpolation\n",
      "NN = np.array([[1, 1, 0], [1, 1, 0], [0, 0, 0]])\n",
      "\n",
      "# (ii) Bilinear interpolation\n",
      "Bilinear = (1/4)*np.array([[1, 2, 1], [2, 4, 2], [1, 2, 1]])\n",
      "img_NN = conv(I1, NN)\n",
      "img_Bilinear = conv(I1, Bilinear)\n",
      "\n",
      "img1 = np.hstack((img_NN, img_Bilinear)) \n",
      "imgshow(img1)\n",
      "\n",
      "cv2.imwrite('img_NN.jpg', img_NN)\n",
      "cv2.imwrite('img_Bilinear.jpg', img_Bilinear)\n"
     ]
    }
   ],
   "source": [
    "%save 廖家緯.HW6.py 1-7"
   ]
  }
 ],
 "metadata": {
  "kernelspec": {
   "display_name": "Python 3",
   "language": "python",
   "name": "python3"
  },
  "language_info": {
   "codemirror_mode": {
    "name": "ipython",
    "version": 3
   },
   "file_extension": ".py",
   "mimetype": "text/x-python",
   "name": "python",
   "nbconvert_exporter": "python",
   "pygments_lexer": "ipython3",
   "version": "3.7.4"
  }
 },
 "nbformat": 4,
 "nbformat_minor": 2
}
