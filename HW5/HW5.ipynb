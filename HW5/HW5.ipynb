{
 "cells": [
  {
   "cell_type": "code",
   "execution_count": 1,
   "metadata": {},
   "outputs": [],
   "source": [
    "import numpy as np\n",
    "import cv2\n",
    "import random"
   ]
  },
  {
   "cell_type": "code",
   "execution_count": 2,
   "metadata": {},
   "outputs": [],
   "source": [
    "# 讀取灰階影像\n",
    "I = cv2.imread('image.jpg', cv2.IMREAD_GRAYSCALE)\n",
    "\n",
    "#判斷影像的矩陣大小\n",
    "n = np.shape(I)[0]\n",
    "m = np.shape(I)[1]\n",
    "\n",
    "# 顯示圖片\n",
    "def imgshow(img):\n",
    "    cv2.imshow('My Image', img)\n",
    "    cv2.waitKey(0)\n",
    "    cv2.destroyAllWindows()"
   ]
  },
  {
   "cell_type": "code",
   "execution_count": 3,
   "metadata": {},
   "outputs": [],
   "source": [
    "# 周圍補0，確保每個元素都能被filter掃到\n",
    "I1 = np.pad(I,((1,1),(1,1)),'constant',constant_values = (0,0))\n",
    "N = np.shape(I1)[0]\n",
    "M = np.shape(I1)[1]"
   ]
  },
  {
   "cell_type": "code",
   "execution_count": 4,
   "metadata": {},
   "outputs": [],
   "source": [
    "# Average filter 和 Median filter\n",
    "I2 = np.zeros((N, M), int).astype('double')\n",
    "I3 = np.zeros((N, M), int).astype('uint8')\n",
    "\n",
    "for i in range(1, N-1):\n",
    "    for j in range(1 ,M-1):\n",
    "        I2[i,j] =  I1[i-1:i+2, j-1:j+2].mean()\n",
    "        I3[i,j] =  sorted(I1[i-1:i+2, j-1:j+2].reshape(9))[4]\n",
    "\n",
    "I2 = I2.astype('uint8')\n",
    "I3 = I3.astype('uint8')"
   ]
  },
  {
   "cell_type": "code",
   "execution_count": 5,
   "metadata": {},
   "outputs": [],
   "source": [
    "# Unsharp masking\n",
    "k = 0.4\n",
    "s = 1/(1-k)\n",
    "I4 = ((I1 - k*I2)*s).astype('uint8')\n",
    "I5 = ((I1 - k*I3)*s).astype('uint8')"
   ]
  },
  {
   "cell_type": "code",
   "execution_count": 6,
   "metadata": {},
   "outputs": [],
   "source": [
    "img1 = np.hstack((I1, I2, I3)) \n",
    "img2 = np.hstack((I1, I4, I5)) \n",
    "\n",
    "imgshow(img1)\n",
    "imgshow(img2)"
   ]
  },
  {
   "cell_type": "code",
   "execution_count": 7,
   "metadata": {},
   "outputs": [
    {
     "data": {
      "text/plain": [
       "True"
      ]
     },
     "execution_count": 7,
     "metadata": {},
     "output_type": "execute_result"
    }
   ],
   "source": [
    "cv2.imwrite('input_image.jpg', I)\n",
    "cv2.imwrite('average_filter.jpg', I2)\n",
    "cv2.imwrite('median_filter.jpg', I3)\n",
    "cv2.imwrite('average_filter_us.jpg', I4)\n",
    "cv2.imwrite('median_filter_us.jpg', I5)"
   ]
  },
  {
   "cell_type": "code",
   "execution_count": 8,
   "metadata": {},
   "outputs": [
    {
     "name": "stdout",
     "output_type": "stream",
     "text": [
      "File `廖家緯.HW5.py` exists. Overwrite (y/[N])?  y\n",
      "The following commands were written to file `廖家緯.HW5.py`:\n",
      "import numpy as np\n",
      "import cv2\n",
      "import random\n",
      "# 讀取灰階影像\n",
      "I = cv2.imread('image.jpg', cv2.IMREAD_GRAYSCALE)\n",
      "\n",
      "#判斷影像的矩陣大小\n",
      "n = np.shape(I)[0]\n",
      "m = np.shape(I)[1]\n",
      "\n",
      "# 顯示圖片\n",
      "def imgshow(img):\n",
      "    cv2.imshow('My Image', img)\n",
      "    cv2.waitKey(0)\n",
      "    cv2.destroyAllWindows()\n",
      "# 周圍補0，確保每個元素都能被filter掃到\n",
      "I1 = np.pad(I,((1,1),(1,1)),'constant',constant_values = (0,0))\n",
      "N = np.shape(I1)[0]\n",
      "M = np.shape(I1)[1]\n",
      "# Average filter 和 Median filter\n",
      "I2 = np.zeros((N, M), int).astype('double')\n",
      "I3 = np.zeros((N, M), int).astype('uint8')\n",
      "\n",
      "for i in range(1, N-1):\n",
      "    for j in range(1 ,M-1):\n",
      "        I2[i,j] =  I1[i-1:i+2, j-1:j+2].mean()\n",
      "        I3[i,j] =  sorted(I1[i-1:i+2, j-1:j+2].reshape(9))[4]\n",
      "\n",
      "I2 = I2.astype('uint8')\n",
      "I3 = I3.astype('uint8')\n",
      "# Unsharp masking\n",
      "k = 0.4\n",
      "s = 1/(1-k)\n",
      "I4 = ((I1 - k*I2)*s).astype('uint8')\n",
      "I5 = ((I1 - k*I3)*s).astype('uint8')\n",
      "img1 = np.hstack((I1, I2, I3)) \n",
      "img2 = np.hstack((I1, I4, I5)) \n",
      "\n",
      "imgshow(img1)\n",
      "imgshow(img2)\n",
      "cv2.imwrite('input_image.jpg', I)\n",
      "cv2.imwrite('average_filter.jpg', I2)\n",
      "cv2.imwrite('median_filter.jpg', I3)\n",
      "cv2.imwrite('average_filter_us.jpg', I4)\n",
      "cv2.imwrite('median_filter_us.jpg', I5)\n"
     ]
    }
   ],
   "source": [
    "%save 廖家緯.HW5.py 1-7"
   ]
  },
  {
   "cell_type": "code",
   "execution_count": null,
   "metadata": {},
   "outputs": [],
   "source": []
  }
 ],
 "metadata": {
  "kernelspec": {
   "display_name": "Python 3",
   "language": "python",
   "name": "python3"
  },
  "language_info": {
   "codemirror_mode": {
    "name": "ipython",
    "version": 3
   },
   "file_extension": ".py",
   "mimetype": "text/x-python",
   "name": "python",
   "nbconvert_exporter": "python",
   "pygments_lexer": "ipython3",
   "version": "3.7.4"
  }
 },
 "nbformat": 4,
 "nbformat_minor": 2
}
