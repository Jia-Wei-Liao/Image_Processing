{
 "cells": [
  {
   "cell_type": "code",
   "execution_count": 1,
   "metadata": {},
   "outputs": [],
   "source": [
    "import numpy as np\n",
    "import cv2"
   ]
  },
  {
   "cell_type": "code",
   "execution_count": 2,
   "metadata": {},
   "outputs": [],
   "source": [
    "#轉成二值影像\n",
    "def binary_img(I):\n",
    "    I_ = I.copy()\n",
    "    for i in range(n):\n",
    "        for j in range(m):\n",
    "            if I[i][j] > 128:\n",
    "                I_[i][j] = 1\n",
    "            else:\n",
    "                I_[i][j] = 0\n",
    "    return I_"
   ]
  },
  {
   "cell_type": "code",
   "execution_count": 3,
   "metadata": {},
   "outputs": [],
   "source": [
    "#Lantuejoul’s method\n",
    "def Lantuejouls_method(I, B):\n",
    "    I_ = I.copy()\n",
    "    Erosion = np.zeros((n, m)).astype('uint8')\n",
    "    Opening = np.zeros((n, m)).astype('uint8')\n",
    "    Differences = np.zeros((n, m)).astype('uint8')\n",
    "    Union = np.zeros((n, m)).astype('uint8')\n",
    "    k = 0\n",
    "\n",
    "    while k < 50:\n",
    "        for i in range(1, n-1):\n",
    "            for j in range(1, m-1):\n",
    "                if np.array_equal(I_[i-1:i+2, j-1:j+2]*B, B):\n",
    "                    Erosion[i][j] = 1\n",
    "\n",
    "        for i in range(1, n-1):\n",
    "            for j in range(1, m-1):\n",
    "                if Erosion[i][j] == 1:\n",
    "                    Opening[i-1:i+2, j-1:j+2] = np.ones(3)\n",
    "\n",
    "        Differences = I_ - Opening\n",
    "        Union = Union + Differences\n",
    "        k += 1\n",
    "        if np.array_equal(Opening, np.zeros((n, m))):\n",
    "            break\n",
    "        else:\n",
    "            I_ = Erosion\n",
    "            Erosion = np.zeros((n, m)).astype('uint8')\n",
    "            Opening = np.zeros((n, m)).astype('uint8')\n",
    "            \n",
    "    Union = (Union*255).astype('uint8')\n",
    "    return Union"
   ]
  },
  {
   "cell_type": "code",
   "execution_count": 4,
   "metadata": {},
   "outputs": [],
   "source": [
    "# 顯示圖片\n",
    "def imgshow(img):\n",
    "    cv2.imshow('My Image', img)\n",
    "    cv2.waitKey(0)\n",
    "    cv2.destroyAllWindows()"
   ]
  },
  {
   "cell_type": "code",
   "execution_count": 5,
   "metadata": {},
   "outputs": [],
   "source": [
    "I = cv2.imread('img.png', cv2.IMREAD_GRAYSCALE)\n",
    "n, m = np.shape(I)"
   ]
  },
  {
   "cell_type": "code",
   "execution_count": 6,
   "metadata": {},
   "outputs": [],
   "source": [
    "B1 = np.array([[0, 1, 0], [1, 1, 1], [0, 1, 0]]).astype('uint8')\n",
    "B2 = np.array([[1, 1, 1], [1, 1, 1], [1, 1, 1]])"
   ]
  },
  {
   "cell_type": "code",
   "execution_count": 7,
   "metadata": {},
   "outputs": [
    {
     "data": {
      "text/plain": [
       "True"
      ]
     },
     "execution_count": 7,
     "metadata": {},
     "output_type": "execute_result"
    }
   ],
   "source": [
    "I1 = binary_img(I)\n",
    "I1 = Lantuejouls_method(I1, B1)\n",
    "imgshow(I1)\n",
    "cv2.imwrite('4-connected components.jpg', I1)"
   ]
  },
  {
   "cell_type": "code",
   "execution_count": 8,
   "metadata": {},
   "outputs": [
    {
     "data": {
      "text/plain": [
       "True"
      ]
     },
     "execution_count": 8,
     "metadata": {},
     "output_type": "execute_result"
    }
   ],
   "source": [
    "I2 = binary_img(I)\n",
    "I2 = Lantuejouls_method(I2, B2)\n",
    "imgshow(I2)\n",
    "cv2.imwrite('8-connected components.jpg', I2)"
   ]
  },
  {
   "cell_type": "code",
   "execution_count": 9,
   "metadata": {},
   "outputs": [
    {
     "name": "stdout",
     "output_type": "stream",
     "text": [
      "File `廖家緯.HW12.py` exists. Overwrite (y/[N])?  y\n",
      "The following commands were written to file `廖家緯.HW12.py`:\n",
      "import numpy as np\n",
      "import cv2\n",
      "#轉成二值影像\n",
      "def binary_img(I):\n",
      "    I_ = I.copy()\n",
      "    for i in range(n):\n",
      "        for j in range(m):\n",
      "            if I[i][j] > 128:\n",
      "                I_[i][j] = 1\n",
      "            else:\n",
      "                I_[i][j] = 0\n",
      "    return I_\n",
      "#Lantuejoul’s method\n",
      "def Lantuejouls_method(I, B):\n",
      "    I_ = I.copy()\n",
      "    Erosion = np.zeros((n, m)).astype('uint8')\n",
      "    Opening = np.zeros((n, m)).astype('uint8')\n",
      "    Differences = np.zeros((n, m)).astype('uint8')\n",
      "    Union = np.zeros((n, m)).astype('uint8')\n",
      "    k = 0\n",
      "\n",
      "    while k < 50:\n",
      "        for i in range(1, n-1):\n",
      "            for j in range(1, m-1):\n",
      "                if np.array_equal(I_[i-1:i+2, j-1:j+2]*B, B):\n",
      "                    Erosion[i][j] = 1\n",
      "\n",
      "        for i in range(1, n-1):\n",
      "            for j in range(1, m-1):\n",
      "                if Erosion[i][j] == 1:\n",
      "                    Opening[i-1:i+2, j-1:j+2] = np.ones(3)\n",
      "\n",
      "        Differences = I_ - Opening\n",
      "        Union = Union + Differences\n",
      "        k += 1\n",
      "        if np.array_equal(Opening, np.zeros((n, m))):\n",
      "            break\n",
      "        else:\n",
      "            I_ = Erosion\n",
      "            Erosion = np.zeros((n, m)).astype('uint8')\n",
      "            Opening = np.zeros((n, m)).astype('uint8')\n",
      "            \n",
      "    Union = (Union*255).astype('uint8')\n",
      "    return Union\n",
      "# 顯示圖片\n",
      "def imgshow(img):\n",
      "    cv2.imshow('My Image', img)\n",
      "    cv2.waitKey(0)\n",
      "    cv2.destroyAllWindows()\n",
      "I = cv2.imread('img.png', cv2.IMREAD_GRAYSCALE)\n",
      "n, m = np.shape(I)\n",
      "B1 = np.array([[0, 1, 0], [1, 1, 1], [0, 1, 0]]).astype('uint8')\n",
      "B2 = np.array([[1, 1, 1], [1, 1, 1], [1, 1, 1]])\n",
      "I1 = binary_img(I)\n",
      "I1 = Lantuejouls_method(I1, B1)\n",
      "imgshow(I1)\n",
      "cv2.imwrite('4-connected components.jpg', I1)\n",
      "I2 = binary_img(I)\n",
      "I2 = Lantuejouls_method(I2, B2)\n",
      "imgshow(I2)\n",
      "cv2.imwrite('8-connected components.jpg', I2)\n"
     ]
    }
   ],
   "source": [
    "%save 廖家緯.HW12.py 1-8"
   ]
  },
  {
   "cell_type": "code",
   "execution_count": null,
   "metadata": {},
   "outputs": [],
   "source": []
  }
 ],
 "metadata": {
  "kernelspec": {
   "display_name": "Python 3",
   "language": "python",
   "name": "python3"
  },
  "language_info": {
   "codemirror_mode": {
    "name": "ipython",
    "version": 3
   },
   "file_extension": ".py",
   "mimetype": "text/x-python",
   "name": "python",
   "nbconvert_exporter": "python",
   "pygments_lexer": "ipython3",
   "version": "3.7.4"
  }
 },
 "nbformat": 4,
 "nbformat_minor": 2
}
