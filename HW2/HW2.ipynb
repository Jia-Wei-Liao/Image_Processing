{
 "cells": [
  {
   "cell_type": "code",
   "execution_count": 1,
   "metadata": {},
   "outputs": [],
   "source": [
    "import numpy as np\n",
    "import cv2"
   ]
  },
  {
   "cell_type": "code",
   "execution_count": 2,
   "metadata": {},
   "outputs": [],
   "source": [
    "# 讀取灰階影像\n",
    "I = cv2.imread('Gray.jpg', cv2.IMREAD_GRAYSCALE)\n",
    "\n",
    "#判斷影像的矩陣大小\n",
    "n = np.shape(I)[0]\n",
    "m = np.shape(I)[1]"
   ]
  },
  {
   "cell_type": "code",
   "execution_count": 3,
   "metadata": {},
   "outputs": [],
   "source": [
    "#建構dithering matrix\n",
    "D2 = np.array([[0, 128, 32, 160], [192, 64, 224, 96], [48, 176, 16, 144], [240, 122, 208, 80]])"
   ]
  },
  {
   "cell_type": "code",
   "execution_count": 4,
   "metadata": {},
   "outputs": [],
   "source": [
    "#用D2貼滿D\n",
    "D = np.zeros((n,m), np.int)\n",
    "\n",
    "for i in range(n):\n",
    "    for j in range(m):\n",
    "        D[i, j] = D2[(i%4), (j%4)]"
   ]
  },
  {
   "cell_type": "code",
   "execution_count": 5,
   "metadata": {},
   "outputs": [],
   "source": [
    "I1 = np.zeros((n,m), np.int)\n",
    "\n",
    "for i in range(n):\n",
    "    for j in range(m):\n",
    "        if I[i, j] > D[i, j]:\n",
    "            I1[i, j] = 255\n",
    "        else:\n",
    "            I1[i ,j] = 0\n",
    "\n",
    "#轉型\n",
    "I1 = np.uint8(I1)"
   ]
  },
  {
   "cell_type": "code",
   "execution_count": 6,
   "metadata": {},
   "outputs": [],
   "source": [
    "# 顯示原圖\n",
    "cv2.imshow('My Image1', I)\n",
    "\n",
    "# 按下任意鍵則關閉所有視窗\n",
    "cv2.waitKey(0)\n",
    "cv2.destroyAllWindows()"
   ]
  },
  {
   "cell_type": "code",
   "execution_count": 7,
   "metadata": {},
   "outputs": [],
   "source": [
    "# 顯示圖片\n",
    "cv2.imshow('My Image2', I1)\n",
    "\n",
    "# 按下任意鍵則關閉所有視窗\n",
    "cv2.waitKey(0)\n",
    "cv2.destroyAllWindows()"
   ]
  },
  {
   "cell_type": "code",
   "execution_count": 8,
   "metadata": {},
   "outputs": [],
   "source": [
    "Q = np.zeros((n,m), np.int)\n",
    "\n",
    "for i in range(n):\n",
    "    for j in range(m):\n",
    "        Q[i, j] = I[i, j]/85"
   ]
  },
  {
   "cell_type": "code",
   "execution_count": 9,
   "metadata": {},
   "outputs": [],
   "source": [
    "#建構dithering matrix\n",
    "D1 = np.array([[0, 56], [84, 28]])"
   ]
  },
  {
   "cell_type": "code",
   "execution_count": 10,
   "metadata": {},
   "outputs": [],
   "source": [
    "#用D1貼滿D\n",
    "D = np.zeros((n,m), np.int)\n",
    "\n",
    "for i in range(n):\n",
    "    for j in range(m):\n",
    "        D[i, j] = D1[(i%2), (j%2)]"
   ]
  },
  {
   "cell_type": "code",
   "execution_count": 11,
   "metadata": {},
   "outputs": [],
   "source": [
    "I2 = np.zeros((n,m), np.int)\n",
    "\n",
    "for i in range(n):\n",
    "    for j in range(m):\n",
    "        if I[i, j] - 85*Q[i, j] > D[i, j]:\n",
    "            I2[i, j] = (Q[i, j] + 1)*85\n",
    "        else:\n",
    "            I2[i, j] = Q[i, j]*85\n",
    "\n",
    "#轉型\n",
    "I2 = np.uint8(I2)"
   ]
  },
  {
   "cell_type": "code",
   "execution_count": 12,
   "metadata": {},
   "outputs": [],
   "source": [
    "# 顯示圖片\n",
    "cv2.imshow('My Image3', I2)\n",
    "\n",
    "# 按下任意鍵則關閉所有視窗\n",
    "cv2.waitKey(0)\n",
    "cv2.destroyAllWindows()"
   ]
  },
  {
   "cell_type": "code",
   "execution_count": 13,
   "metadata": {},
   "outputs": [
    {
     "data": {
      "text/plain": [
       "True"
      ]
     },
     "execution_count": 13,
     "metadata": {},
     "output_type": "execute_result"
    }
   ],
   "source": [
    "#儲存影像\n",
    "cv2.imwrite('I.jpg', I)\n",
    "cv2.imwrite('I1.jpg', I1)\n",
    "cv2.imwrite('I2.jpg', I2)"
   ]
  },
  {
   "cell_type": "code",
   "execution_count": 14,
   "metadata": {},
   "outputs": [
    {
     "name": "stdout",
     "output_type": "stream",
     "text": [
      "File `廖家緯.HW2.py` exists. Overwrite (y/[N])?  y\n",
      "The following commands were written to file `廖家緯.HW2.py`:\n",
      "import numpy as np\n",
      "import cv2\n",
      "# 讀取灰階影像\n",
      "I = cv2.imread('Gray.jpg', cv2.IMREAD_GRAYSCALE)\n",
      "\n",
      "#判斷影像的矩陣大小\n",
      "n = np.shape(I)[0]\n",
      "m = np.shape(I)[1]\n",
      "#建構dithering matrix\n",
      "D2 = np.array([[0, 128, 32, 160], [192, 64, 224, 96], [48, 176, 16, 144], [240, 122, 208, 80]])\n",
      "#用D2貼滿D\n",
      "D = np.zeros((n,m), np.int)\n",
      "\n",
      "for i in range(n):\n",
      "    for j in range(m):\n",
      "        D[i, j] = D2[(i%4), (j%4)]\n",
      "I1 = np.zeros((n,m), np.int)\n",
      "\n",
      "for i in range(n):\n",
      "    for j in range(m):\n",
      "        if I[i, j] > D[i, j]:\n",
      "            I1[i, j] = 255\n",
      "        else:\n",
      "            I1[i ,j] = 0\n",
      "\n",
      "#轉型\n",
      "I1 = np.uint8(I1)\n",
      "# 顯示原圖\n",
      "cv2.imshow('My Image1', I)\n",
      "\n",
      "# 按下任意鍵則關閉所有視窗\n",
      "cv2.waitKey(0)\n",
      "cv2.destroyAllWindows()\n",
      "# 顯示圖片\n",
      "cv2.imshow('My Image2', I1)\n",
      "\n",
      "# 按下任意鍵則關閉所有視窗\n",
      "cv2.waitKey(0)\n",
      "cv2.destroyAllWindows()\n",
      "Q = np.zeros((n,m), np.int)\n",
      "\n",
      "for i in range(n):\n",
      "    for j in range(m):\n",
      "        Q[i, j] = I[i, j]/85\n",
      "#建構dithering matrix\n",
      "D1 = np.array([[0, 56], [84, 28]])\n",
      "#用D1貼滿D\n",
      "D = np.zeros((n,m), np.int)\n",
      "\n",
      "for i in range(n):\n",
      "    for j in range(m):\n",
      "        D[i, j] = D1[(i%2), (j%2)]\n",
      "I2 = np.zeros((n,m), np.int)\n",
      "\n",
      "for i in range(n):\n",
      "    for j in range(m):\n",
      "        if I[i, j] - 85*Q[i, j] > D[i, j]:\n",
      "            I2[i, j] = (Q[i, j] + 1)*85\n",
      "        else:\n",
      "            I2[i, j] = Q[i, j]*85\n",
      "\n",
      "#轉型\n",
      "I2 = np.uint8(I2)\n",
      "# 顯示圖片\n",
      "cv2.imshow('My Image3', I2)\n",
      "\n",
      "# 按下任意鍵則關閉所有視窗\n",
      "cv2.waitKey(0)\n",
      "cv2.destroyAllWindows()\n",
      "#儲存影像\n",
      "cv2.imwrite('I.jpg', I)\n",
      "cv2.imwrite('I1.jpg', I1)\n",
      "cv2.imwrite('I2.jpg', I2)\n"
     ]
    }
   ],
   "source": [
    "%save 廖家緯.HW2.py 1-13"
   ]
  }
 ],
 "metadata": {
  "kernelspec": {
   "display_name": "Python 3",
   "language": "python",
   "name": "python3"
  },
  "language_info": {
   "codemirror_mode": {
    "name": "ipython",
    "version": 3
   },
   "file_extension": ".py",
   "mimetype": "text/x-python",
   "name": "python",
   "nbconvert_exporter": "python",
   "pygments_lexer": "ipython3",
   "version": "3.7.4"
  }
 },
 "nbformat": 4,
 "nbformat_minor": 2
}
