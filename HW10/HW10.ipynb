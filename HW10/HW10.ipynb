{
 "cells": [
  {
   "cell_type": "code",
   "execution_count": 1,
   "metadata": {},
   "outputs": [],
   "source": [
    "import numpy as np\n",
    "import matplotlib.pyplot as plt\n",
    "import cv2"
   ]
  },
  {
   "cell_type": "code",
   "execution_count": 2,
   "metadata": {},
   "outputs": [],
   "source": [
    "def his(img, s):\n",
    "    [img_his, img_bin] = np.histogram(img.flatten(), range(257))\n",
    "    plt.bar(range(256), img_his, color = 'blue')\n",
    "    plt.savefig(s + '_his.png')\n",
    "    return img_his"
   ]
  },
  {
   "cell_type": "code",
   "execution_count": 3,
   "metadata": {},
   "outputs": [],
   "source": [
    "def imgshow(img):\n",
    "    cv2.imshow('My Image', img)\n",
    "    cv2.waitKey(0)\n",
    "    cv2.destroyAllWindows()"
   ]
  },
  {
   "cell_type": "code",
   "execution_count": 4,
   "metadata": {},
   "outputs": [],
   "source": [
    "def a(t, p):\n",
    "    return sum(p[:t+1])\n",
    "\n",
    "def b(t, p):\n",
    "    return sum(p[t+1:256])\n",
    "\n",
    "def m(t, p):\n",
    "    return sum(p[:256]*range(256))\n",
    "\n",
    "def ma(t, p):\n",
    "    return sum(p[:t+1]*range(t+1))\n",
    "\n",
    "def val(t, p):\n",
    "    return (ma(t, p)-m(t, p)*a(t, p))**2/(a(t, p)*b(t, p))"
   ]
  },
  {
   "cell_type": "code",
   "execution_count": 5,
   "metadata": {},
   "outputs": [
    {
     "data": {
      "image/png": "[encoded data removed]",
      "text/plain": [
       "<Figure size 432x288 with 1 Axes>"
      ]
     },
     "metadata": {
      "needs_background": "light"
     },
     "output_type": "display_data"
    }
   ],
   "source": [
    "I = cv2.imread('image.jpg', cv2.IMREAD_GRAYSCALE)\n",
    "r, c = np.shape(I)\n",
    "p = his(I, 'image')/(r*c)\n",
    "maxval, t_index = max([(val(t, p), t) for t in range(50, 210)])"
   ]
  },
  {
   "cell_type": "code",
   "execution_count": 6,
   "metadata": {},
   "outputs": [],
   "source": [
    "Out = np.zeros((r, c)).astype('uint8')\n",
    "binary = lambda x:255 if x>t_index else 0\n",
    "for i in range(r):\n",
    "    for j in range(c):\n",
    "        Out[i, j] = binary(I[i, j])"
   ]
  },
  {
   "cell_type": "code",
   "execution_count": 7,
   "metadata": {},
   "outputs": [
    {
     "data": {
      "text/plain": [
       "True"
      ]
     },
     "execution_count": 7,
     "metadata": {},
     "output_type": "execute_result"
    }
   ],
   "source": [
    "imgshow(Out)\n",
    "cv2.imwrite('Otsus.jpg', Out)"
   ]
  },
  {
   "cell_type": "code",
   "execution_count": 8,
   "metadata": {},
   "outputs": [
    {
     "name": "stdout",
     "output_type": "stream",
     "text": [
      "File `廖家緯.HW10.py` exists. Overwrite (y/[N])?  y\n",
      "The following commands were written to file `廖家緯.HW10.py`:\n",
      "import numpy as np\n",
      "import matplotlib.pyplot as plt\n",
      "import cv2\n",
      "def his(img, s):\n",
      "    [img_his, img_bin] = np.histogram(img.flatten(), range(257))\n",
      "    plt.bar(range(256), img_his, color = 'blue')\n",
      "    plt.savefig(s + '_his.png')\n",
      "    return img_his\n",
      "def imgshow(img):\n",
      "    cv2.imshow('My Image', img)\n",
      "    cv2.waitKey(0)\n",
      "    cv2.destroyAllWindows()\n",
      "def a(t, p):\n",
      "    return sum(p[:t+1])\n",
      "\n",
      "def b(t, p):\n",
      "    return sum(p[t+1:256])\n",
      "\n",
      "def m(t, p):\n",
      "    return sum(p[:256]*range(256))\n",
      "\n",
      "def ma(t, p):\n",
      "    return sum(p[:t+1]*range(t+1))\n",
      "\n",
      "def val(t, p):\n",
      "    return (ma(t, p)-m(t, p)*a(t, p))**2/(a(t, p)*b(t, p))\n",
      "I = cv2.imread('image.jpg', cv2.IMREAD_GRAYSCALE)\n",
      "r, c = np.shape(I)\n",
      "p = his(I, 'image')/(r*c)\n",
      "maxval, t_index = max([(val(t, p), t) for t in range(50, 210)])\n",
      "Out = np.zeros((r, c)).astype('uint8')\n",
      "binary = lambda x:255 if x>t_index else 0\n",
      "for i in range(r):\n",
      "    for j in range(c):\n",
      "        Out[i, j] = binary(I[i, j])\n",
      "imgshow(Out)\n",
      "cv2.imwrite('Otsus.jpg', Out)\n"
     ]
    }
   ],
   "source": [
    "%save 廖家緯.HW10.py 1-7"
   ]
  },
  {
   "cell_type": "code",
   "execution_count": null,
   "metadata": {},
   "outputs": [],
   "source": []
  }
 ],
 "metadata": {
  "kernelspec": {
   "display_name": "Python 3",
   "language": "python",
   "name": "python3"
  },
  "language_info": {
   "codemirror_mode": {
    "name": "ipython",
    "version": 3
   },
   "file_extension": ".py",
   "mimetype": "text/x-python",
   "name": "python",
   "nbconvert_exporter": "python",
   "pygments_lexer": "ipython3",
   "version": "3.7.4"
  }
 },
 "nbformat": 4,
 "nbformat_minor": 2
}
