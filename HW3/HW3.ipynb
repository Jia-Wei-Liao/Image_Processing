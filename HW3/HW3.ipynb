{
 "cells": [
  {
   "cell_type": "code",
   "execution_count": 1,
   "metadata": {},
   "outputs": [],
   "source": [
    "import numpy as np\n",
    "import cv2"
   ]
  },
  {
   "cell_type": "code",
   "execution_count": 2,
   "metadata": {},
   "outputs": [],
   "source": [
    "# 讀取灰階影像\n",
    "I = cv2.imread('Gray.jpg', cv2.IMREAD_GRAYSCALE)\n",
    "\n",
    "#判斷影像的矩陣大小\n",
    "n = np.shape(I)[0]\n",
    "m = np.shape(I)[1]"
   ]
  },
  {
   "cell_type": "code",
   "execution_count": 3,
   "metadata": {},
   "outputs": [],
   "source": [
    "E = np.zeros((n,m), np.double)\n",
    "I = np.double(I)\n",
    "\n",
    "#For each pixel I(x,y)\n",
    "for i in range(n):\n",
    "    for j in range(m):\n",
    "        \n",
    "        #1)Calculate quantization error\n",
    "        if I[i, j] >= 128:\n",
    "            E[i, j] = I[i, j]-255\n",
    "        else:\n",
    "            E[i, j] = I[i, j]\n",
    "            \n",
    "        #2)Floyd-Steinberg    \n",
    "        if j+1<=m-1:\n",
    "            I[i, j+1] += (7/16)*E[i, j]\n",
    "        if i+1<=n-1 and j-1>=0:\n",
    "            I[i+1, j-1] += (3/16)*E[i, j]\n",
    "        if i+1<=n-1:\n",
    "            I[i+1, j] += (5/16)*E[i, j]\n",
    "        if i+1<=n-1 and j+1<=m-1:\n",
    "            I[i+1, j+1] += (1/16)*E[i, j]"
   ]
  },
  {
   "cell_type": "code",
   "execution_count": 4,
   "metadata": {},
   "outputs": [],
   "source": [
    "#3)Quantize new I(x,y) to 0 or 255 using 128 as the threshold\n",
    "for i in range(n):\n",
    "    for j in range(m):\n",
    "        if I[i, j]>=128:\n",
    "            I[i, j] = 1\n",
    "        else:\n",
    "            I[i, j] = 0\n",
    "I = I*255           \n",
    "I = np.uint8(I)"
   ]
  },
  {
   "cell_type": "code",
   "execution_count": 5,
   "metadata": {},
   "outputs": [],
   "source": [
    "# 顯示圖片\n",
    "cv2.imshow('My Image2', I)\n",
    "\n",
    "# 按下任意鍵則關閉所有視窗\n",
    "cv2.waitKey(0)\n",
    "cv2.destroyAllWindows()"
   ]
  },
  {
   "cell_type": "code",
   "execution_count": 6,
   "metadata": {},
   "outputs": [
    {
     "data": {
      "text/plain": [
       "True"
      ]
     },
     "execution_count": 6,
     "metadata": {},
     "output_type": "execute_result"
    }
   ],
   "source": [
    "cv2.imwrite('Floyd-Steinberg.jpg', I)"
   ]
  },
  {
   "cell_type": "code",
   "execution_count": 7,
   "metadata": {},
   "outputs": [
    {
     "name": "stdout",
     "output_type": "stream",
     "text": [
      "File `廖家緯.HW3.py` exists. Overwrite (y/[N])?  y\n",
      "The following commands were written to file `廖家緯.HW3.py`:\n",
      "import numpy as np\n",
      "import cv2\n",
      "# 讀取灰階影像\n",
      "I = cv2.imread('Gray.jpg', cv2.IMREAD_GRAYSCALE)\n",
      "\n",
      "#判斷影像的矩陣大小\n",
      "n = np.shape(I)[0]\n",
      "m = np.shape(I)[1]\n",
      "E = np.zeros((n,m), np.double)\n",
      "I = np.double(I)\n",
      "\n",
      "#For each pixel I(x,y)\n",
      "for i in range(n):\n",
      "    for j in range(m):\n",
      "        \n",
      "        #1)Calculate quantization error\n",
      "        if I[i, j] >= 128:\n",
      "            E[i, j] = I[i, j]-255\n",
      "        else:\n",
      "            E[i, j] = I[i, j]\n",
      "            \n",
      "        #2)Floyd-Steinberg    \n",
      "        if j+1<=m-1:\n",
      "            I[i, j+1] += (7/16)*E[i, j]\n",
      "        if i+1<=n-1 and j-1>=0:\n",
      "            I[i+1, j-1] += (3/16)*E[i, j]\n",
      "        if i+1<=n-1:\n",
      "            I[i+1, j] += (5/16)*E[i, j]\n",
      "        if i+1<=n-1 and j+1<=m-1:\n",
      "            I[i+1, j+1] += (1/16)*E[i, j]\n",
      "#3)Quantize new I(x,y) to 0 or 255 using 128 as the threshold\n",
      "for i in range(n):\n",
      "    for j in range(m):\n",
      "        if I[i, j]>=128:\n",
      "            I[i, j] = 1\n",
      "        else:\n",
      "            I[i, j] = 0\n",
      "I = I*255           \n",
      "I = np.uint8(I)\n",
      "# 顯示圖片\n",
      "cv2.imshow('My Image2', I)\n",
      "\n",
      "# 按下任意鍵則關閉所有視窗\n",
      "cv2.waitKey(0)\n",
      "cv2.destroyAllWindows()\n",
      "cv2.imwrite('Floyd-Steinberg.jpg', I)\n"
     ]
    }
   ],
   "source": [
    "%save 廖家緯.HW3.py 1-6"
   ]
  },
  {
   "cell_type": "code",
   "execution_count": null,
   "metadata": {},
   "outputs": [],
   "source": []
  }
 ],
 "metadata": {
  "kernelspec": {
   "display_name": "Python 3",
   "language": "python",
   "name": "python3"
  },
  "language_info": {
   "codemirror_mode": {
    "name": "ipython",
    "version": 3
   },
   "file_extension": ".py",
   "mimetype": "text/x-python",
   "name": "python",
   "nbconvert_exporter": "python",
   "pygments_lexer": "ipython3",
   "version": "3.7.4"
  }
 },
 "nbformat": 4,
 "nbformat_minor": 2
}
