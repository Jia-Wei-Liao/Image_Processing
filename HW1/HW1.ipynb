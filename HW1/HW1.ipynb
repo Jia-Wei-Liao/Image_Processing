{
 "cells": [
  {
   "cell_type": "code",
   "execution_count": 1,
   "metadata": {},
   "outputs": [],
   "source": [
    "import numpy as np\n",
    "import cv2"
   ]
  },
  {
   "cell_type": "code",
   "execution_count": 2,
   "metadata": {},
   "outputs": [],
   "source": [
    "# 讀取圖檔\n",
    "img = cv2.imread('image.jpg', cv2.IMREAD_COLOR)"
   ]
  },
  {
   "cell_type": "code",
   "execution_count": 3,
   "metadata": {},
   "outputs": [],
   "source": [
    "#提取RGB矩陣\n",
    "(B, G, R) = cv2.split(img)"
   ]
  },
  {
   "cell_type": "code",
   "execution_count": 4,
   "metadata": {},
   "outputs": [],
   "source": [
    "#取平均值，轉灰階\n",
    "mean = B/3 + G/3 + R/3\n",
    "mean = np.uint8(mean)\n",
    "gray_img = cv2.merge([mean, mean, mean])"
   ]
  },
  {
   "cell_type": "code",
   "execution_count": 5,
   "metadata": {},
   "outputs": [],
   "source": [
    "# 顯示原圖\n",
    "cv2.imshow('My Image', img)\n",
    "\n",
    "# 按下任意鍵則關閉所有視窗\n",
    "cv2.waitKey(0)\n",
    "cv2.destroyAllWindows()"
   ]
  },
  {
   "cell_type": "code",
   "execution_count": 6,
   "metadata": {},
   "outputs": [],
   "source": [
    "# 顯示灰階影像\n",
    "cv2.imshow('My Image', gray_img)\n",
    "\n",
    "# 按下任意鍵則關閉所有視窗\n",
    "cv2.waitKey(0)\n",
    "cv2.destroyAllWindows()"
   ]
  },
  {
   "cell_type": "code",
   "execution_count": 7,
   "metadata": {},
   "outputs": [
    {
     "data": {
      "text/plain": [
       "True"
      ]
     },
     "execution_count": 7,
     "metadata": {},
     "output_type": "execute_result"
    }
   ],
   "source": [
    "#儲存影像\n",
    "cv2.imwrite('Original.jpg', img)\n",
    "cv2.imwrite('Gray.jpg', gray_img)"
   ]
  },
  {
   "cell_type": "code",
   "execution_count": 8,
   "metadata": {},
   "outputs": [
    {
     "name": "stdout",
     "output_type": "stream",
     "text": [
      "File `廖家緯.HW1.py` exists. Overwrite (y/[N])?  y\n",
      "The following commands were written to file `廖家緯.HW1.py`:\n",
      "import numpy as np\n",
      "import cv2\n",
      "# 讀取圖檔\n",
      "img = cv2.imread('image.jpg', cv2.IMREAD_COLOR)\n",
      "#提取RGB矩陣\n",
      "(B, G, R) = cv2.split(img)\n",
      "#取平均值，轉灰階\n",
      "mean = B/3 + G/3 + R/3\n",
      "mean = np.uint8(mean)\n",
      "gray_img = cv2.merge([mean, mean, mean])\n",
      "# 顯示原圖\n",
      "cv2.imshow('My Image', img)\n",
      "\n",
      "# 按下任意鍵則關閉所有視窗\n",
      "cv2.waitKey(0)\n",
      "cv2.destroyAllWindows()\n",
      "# 顯示灰階影像\n",
      "cv2.imshow('My Image', gray_img)\n",
      "\n",
      "# 按下任意鍵則關閉所有視窗\n",
      "cv2.waitKey(0)\n",
      "cv2.destroyAllWindows()\n",
      "#儲存影像\n",
      "cv2.imwrite('Original.jpg', img)\n",
      "cv2.imwrite('Gray.jpg', gray_img)\n"
     ]
    }
   ],
   "source": [
    "%save 廖家緯.HW1.py 1-7"
   ]
  },
  {
   "cell_type": "code",
   "execution_count": null,
   "metadata": {},
   "outputs": [],
   "source": []
  }
 ],
 "metadata": {
  "kernelspec": {
   "display_name": "Python 3",
   "language": "python",
   "name": "python3"
  },
  "language_info": {
   "codemirror_mode": {
    "name": "ipython",
    "version": 3
   },
   "file_extension": ".py",
   "mimetype": "text/x-python",
   "name": "python",
   "nbconvert_exporter": "python",
   "pygments_lexer": "ipython3",
   "version": "3.7.4"
  }
 },
 "nbformat": 4,
 "nbformat_minor": 2
}
